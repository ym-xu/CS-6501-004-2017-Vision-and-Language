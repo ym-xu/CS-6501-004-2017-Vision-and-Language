{
 "cells": [
  {
   "cell_type": "markdown",
   "metadata": {},
   "source": [
    "# Deep Learning Lab\n",
    "\n",
    "If you are taking this class you have some experience with machine learning. You probably already have used or at the very least have heard about deep learning. There are many deep learning libraries that allow you to easily create neural networks. For Python, the following are some libraries that I recommend based on my own experience or good experiences from other people I trust: <a href=\"http://pytorch.org/\">PyTorch</a>, <a href=\"https://keras.io/\">Keras</a> (using Theano or Tensorflow), <a href=\"http://mxnet.io/\">MXNet</a>, <a href=\"http://chainer.org/\">Chainer</a>, <a href=\"https://github.com/Lasagne/Lasagne\">Lasagne</a>. These libraries are all nice, and we will use them for our later labs and maybe the class project, but in this lab will be creating our own deep learning library: PyDeepTensorNet!\n",
    "\n",
    "## 1. Single-layer neural network\n",
    "First, let's review the skeleton of a single linear layer neural network. The inputs of the network are the variables $x_1, x_2, x_3, x_4$, or the input vector $x=[x_1, x_2, x_3, x_4]$, the outputs of the network are $a_1,a_2,a_3$, or the output vector $a=[a_1,a_2,a_3]$:\n",
    "\n",
    "<img src=\"linear_layer.png\" width=\"300\"/>\n",
    "\n",
    "The outputs $a_i$ of this single linear layer + activation function are computed as follows:\n",
    "\n",
    "$$a_j= \\text{sigmoid}(w_{1j}x_1 + w_{2j}x_2 + w_{3j}x_3 + w_{4j}x_4 + b_j) = \\text{sigmoid}\\Big(\\sum_{i=1}^{i=4}w_{ij}x_{i} + b_j\\Big)$$\n",
    "\n",
    "In matrix notation, this would be: (note the intentional capitalization of the word sigmoid, which now operates element-wise)\n",
    "\n",
    "\\begin{equation}\n",
    "\\begin{bmatrix}\n",
    "  a_{1} \\\\ \n",
    "  a_{2} \\\\\n",
    "  a_{3} \n",
    "\\end{bmatrix}^T=\\text{Sigmoid}\\Bigg(\n",
    "\\begin{bmatrix}\n",
    "  x_{1} \\\\\n",
    "  x_{2} \\\\\n",
    "  x_{3} \\\\\n",
    "  x_{4}\n",
    "\\end{bmatrix}^T\n",
    "\\begin{bmatrix}\n",
    "  w_{1,1} & w_{1,2} & w_{1,3}\\\\\n",
    "  w_{2,1} & w_{3,2} & w_{2,3}\\\\\n",
    "  w_{3,1} & w_{3,2} & w_{3,3}\\\\\n",
    "  w_{4,1} & w_{4,2} & w_{4,3}\n",
    "\\end{bmatrix}\n",
    "+\n",
    "\\begin{bmatrix}\n",
    "  b_{1} \\\\\n",
    "  b_{2} \\\\\n",
    "  b_{3}\n",
    "\\end{bmatrix}^T\\Bigg)\n",
    "\\end{equation}\n",
    "\n",
    "The sigmoid function is: $sigmoid(x) = 1 \\;/\\; (1 + exp(-x))$, or alternatively: $sigmoid(x) = exp(x)\\;/\\;(1 + exp(x))$, however in practice this can be (and often is) replaced by other functions that we will discuss later. We will separate the sigmoid logically into an activation layer $\\sigma(x)$ and a linear layer $\\text{linear}(3,4)$ \n",
    "\n",
    "<b>These two rather simple operations are at the core of all neural networks. A lot of work goes into finding the right set of weights in the matrix $W$ and bias vector $b$ so that the outputs $a$ predict something useful based on the inputs $x$</b>. Training these weights $W$ requires having many training pairs $(a^{(m)}, x^{(m)})$ for your task. The inputs $x$ can be the pixels of an image, indices of words, the entries in a database, and the outputs $a$ can also be literally anything, including a number indicating a category, a set of numbers indicating the indices of words composing a sentence, an output image itself, etc.\n",
    "\n",
    "## 2. Forward-propagation\n",
    "\n",
    "When we compute the outputs $a$ from the inputs $x$ in this network composed of a single linear layer, and a sigmoid layer, this process is called forward-propagation. Let's implement these two operations below:"
   ]
  },
  {
   "cell_type": "code",
   "execution_count": 15,
   "metadata": {
    "collapsed": false
   },
   "outputs": [
    {
     "name": "stdout",
     "output_type": "stream",
     "text": [
      "x[1] = [[1 2 2 3]]\n",
      "a[1] = [[ 0.50090219  0.50021483  0.49964404]]\n",
      "x[2] = [[4 5 2 1]]\n",
      "a[2] = [[ 0.49907659  0.4986298   0.49981055]]\n",
      "x = [[1 2 2 3]\n",
      " [4 5 2 1]]\n",
      "a = [[ 0.49851845  0.50104312  0.50012357]\n",
      " [ 0.4983222   0.50158629  0.50114746]]\n"
     ]
    }
   ],
   "source": [
    "import numpy as np\n",
    "import numpy.matlib\n",
    "\n",
    "class nn_Sigmoid:\n",
    "    def forward(self, x):\n",
    "        return 1 / (1 + np.exp(-x))\n",
    "\n",
    "class nn_Linear:\n",
    "    def __init__(self, input_dim, output_dim):\n",
    "        # Initialized with random numbers from a gaussian N(0, 0.001)\n",
    "        self.weight = np.matlib.randn(input_dim, output_dim) * 0.001\n",
    "        self.bias = np.matlib.randn((1, output_dim)) * 0.001\n",
    "        \n",
    "    # y = Wx + b\n",
    "    def forward(self, x):\n",
    "        return np.dot(x, self.weight) + self.bias\n",
    "    \n",
    "    def getParameters(self):\n",
    "        return [self.weight, self.bias]\n",
    "\n",
    "# Let's test the composition of the two functions (forward-propagation in the neural network).\n",
    "x1 = np.array([[1, 2, 2, 3]])\n",
    "a1 = nn_Sigmoid().forward(nn_Linear(4, 3).forward(x1))\n",
    "print('x[1] = '+ str(x1))\n",
    "print('a[1] = ' + str(a1))\n",
    "\n",
    "# Let's test the composition of the two functions (forward-propagation in the neural network).\n",
    "x2 = np.array([[4, 5, 2, 1]])\n",
    "a2 = nn_Sigmoid().forward(nn_Linear(4, 3).forward(x2))\n",
    "print('x[2] = '+ str(x2))\n",
    "print('a[2] = ' + str(a2))\n",
    "\n",
    "# We can also compute both at once, which could be more efficient since it requires a single matrix multiplication.\n",
    "x = np.concatenate((x1, x2), axis = 0)\n",
    "a = nn_Sigmoid().forward(nn_Linear(4, 3).forward(x))\n",
    "print('x = ' + str(x))\n",
    "print('a = ' + str(a))"
   ]
  },
  {
   "cell_type": "markdown",
   "metadata": {},
   "source": [
    "## 3. Loss functions.\n",
    "\n",
    "After computing the output predictions $a$ it is necessary to compare these against the true values of $a$. Let's call these true, correct, or desired values $y$. A simple loss or cost function is used to measure the degree by which the prediction $a$ is wrong with respect to $y$. A common loss function for regression is the sum of squared differences between the prediction and its true value. Assuming a prediction $a^{(d)}$ for our training sample $x^{(d)}$ with true value $y^{(d)}$, then the loss can be computed as:\n",
    "\n",
    "$$loss(a^{(d)}, y^{(d)}) = (a^{(d)}_1 - y^{(d)}_1)^2 + (a^{(d)}_2 - y^{(d)}_2)^2 + (a^{(d)}_3 - y^{(d)}_3)^2 = \\sum_{j=1}^{j=3}(a^{(d)}_j - y^{(d)}_j)^2$$\n",
    "\n",
    "We want to modify the parameters [weight, bias] in our Linear layer so that the value of $loss(a^{(d)}, y^{(d)})$ becomes as small as possible for all training samples in a set $D=\\{(x^{(d)},y^{(d)})\\}$ so that our predictions $a$ are as similar as possible to the true values $y$. So the function we are really trying to minimize is the following:\n",
    "\n",
    "$$Loss(W, b) = \\sum_{d=1}^{d=|D|} loss(a^{(d)}, y^{(d)})$$\n",
    "\n",
    "The only two variables for our model in the function $Loss$ are $W$ and $b$, this is because the training dataset $D$ is fixed. We need to find how to move the values of $W$ and $b$ so that $Loss$ is minimal. In order to calculate the minimum of this function we can compute the derivatives of the function and find the zeroes: \n",
    "\n",
    "$$\\frac{\\partial Loss}{\\partial w_{i,j}} \\quad\\text{   and   }\\quad \\frac{\\partial Loss}{\\partial b_{j}} $$\n",
    "\n",
    "This can be easily accomplished for some models, for instance if we did not have the the $\\text{sigmoid}$ function, this problem would be standard linear regression and we could find a formula that would give us the parameters right away. You can check in wikipedia a derivation of the normal equations for linear least squares <a href=\"https://en.wikipedia.org/wiki/Linear_least_squares_(mathematics)#Derivation_of_the_normal_equations\">here</a>. However, we will take a different approach and solve this problem by iteratively following the direction of an approximate gradient using Stochastic Gradient Descent (SGD) because this will be used for more complex models. We will also compute the derivatives using the Backpropagation algorithm."
   ]
  },
  {
   "cell_type": "code",
   "execution_count": 16,
   "metadata": {
    "collapsed": false
   },
   "outputs": [
    {
     "name": "stdout",
     "output_type": "stream",
     "text": [
      "1.6271\n"
     ]
    }
   ],
   "source": [
    "class nn_MSECriterion:  # MSE = mean squared error.\n",
    "    def forward(self, predictions, labels):\n",
    "        return np.sum(np.square(predictions - labels))\n",
    "\n",
    "# Let's test the loss function.\n",
    "y_hat = np.array([[0.23, 0.25, 0.33], [0.23, 0.25, 0.33], [0.23, 0.25, 0.33], [0.23, 0.25, 0.33]])\n",
    "y_true = np.array([[0.25, 0.25, 0.25], [0.33, 0.33, 0.33], [0.77, 0.77, 0.77], [0.80, 0.80, 0.80]])\n",
    "print nn_MSECriterion().forward(y_hat, y_true)"
   ]
  },
  {
   "cell_type": "markdown",
   "metadata": {},
   "source": [
    "\n",
    "## 4. Backward-propagation (Backpropagation)\n",
    "\n",
    "Backpropagation is just applying the chain-rule in calculus to compute the derivative of a function which is the composition of many functions (which is essentially what neural networks are all about). To start, let's make one important observation: that $Loss(W, b)$ (uppercase) is a sum of $loss$ functions (lowercase) for each sample in the dataset, and therefore its derivative can be computed as the sum of the derivatives of $loss$ (the loss for each sample $(x^{(d)},y^{(d)})$).\n",
    "\n",
    "So we wil concentrate on finding the derivative of the following function with respect to each parameter: \n",
    "\n",
    "$$loss(W,b) = f(g(h(W,b))$$\n",
    "\n",
    "where $f$, $g$, and $h$ are the least squares loss, the sigmoid function, and a linear transformation respectively:\n",
    "\n",
    "\\begin{align}\n",
    "f(u) &= (u - y^{(d)})^2 && \\text{Remember here that }y^{(d)}\\text{ is a constant, and } u=g(v)\\\\\n",
    "g(v) &= \\frac{1}{1 - e^{-v}} && \\text{where } v = h(W, b)\\\\\n",
    "h(W,b) &= \\Big[\\sum_{i=1}^{i=4}w_{ij}x^{(d)}_{i} + b_j\\Big] && \\text{Remember here that }x^{(d)}\\text{ is a constant and } h(W,b) \\text{ outputs a vector with $j$ entries.}\n",
    "\\end{align}\n",
    "\n",
    "\n",
    "So we can compute the partial derivative $\\frac{\\partial loss(W,b)}{\\partial w_{i,j}}$ by using the chain rule as follows:\n",
    "\n",
    "$$\\frac{\\partial loss(W,b)}{\\partial w_{i,j}} = \\frac{\\partial f(u)}{\\partial u} \\frac{\\partial g(v)}{\\partial v} \\frac{\\partial h(W,b)}{\\partial w_{i,j}}$$\n",
    "\n",
    "The derivatives for each of these functions are:  (please verify the derivations on your own)\n",
    "\n",
    "\\begin{align}\n",
    "\\frac{\\partial f(u)}{\\partial u} &= 2(u - y^{(d)})\\\\\\\\\n",
    "\\frac{\\partial g(v)}{\\partial v} &= g(v)(1 - g(v))\\\\\\\\\n",
    "\\frac{\\partial h(W,b)}{\\partial w_{ij}} = x^{(d)}_{i} &\\quad\\text{ and }\\quad \\frac{\\partial h(W,b)}{\\partial b_{j}} = 1\\quad\\text{ and }\\quad \\frac{\\partial h(W,b)}{\\partial x_{i}} = \\sum_{j=1}^{j=3}w^{(d)}_{ij}\n",
    "\\end{align}\n",
    "\n",
    "Here we will implement these derivative computations:"
   ]
  },
  {
   "cell_type": "code",
   "execution_count": 22,
   "metadata": {
    "collapsed": false
   },
   "outputs": [
    {
     "name": "stdout",
     "output_type": "stream",
     "text": [
      "\n",
      "W = [[-0.00534072  0.01550549  0.01557849]\n",
      " [-0.00601032  0.00779128 -0.01081305]\n",
      " [-0.00814406 -0.0002821   0.02182885]\n",
      " [-0.01395283  0.00654808  0.00321789]]\n",
      "B = [[ 0.01854719  0.01110217 -0.00722855]]\n",
      "\n",
      "x1 = [[1 2 2 3]]\n",
      "a0 = [[-0.00322247  0.08888547 -0.09283324]]\n",
      "a1 = [[ 0.49919438  0.52220675  0.47680834]]\n",
      "\n",
      "loss = 0.187636379029\n",
      "\n",
      "da1 = [[ 0.49838877  0.5444135   0.45361669]]\n",
      "da0 = [[ 0.12459687  0.1358349   0.11316019]]\n",
      "dx1 = [[ 0.00088934  0.00327954  0.00011174 -0.0007776 ]]\n",
      "\n",
      "dW = [[ 0.11778626  0.13253197  0.12995165]\n",
      " [ 0.23557252  0.26506393  0.25990331]\n",
      " [ 0.23557252  0.26506393  0.25990331]\n",
      " [ 0.35335878  0.3975959   0.38985496]]\n",
      "dB = [[ 0.11778626  0.13253197  0.12995165]]\n"
     ]
    }
   ],
   "source": [
    "# This is referred above as f(u).\n",
    "class nn_MSECriterion:\n",
    "    def forward(self, predictions, labels):\n",
    "        return np.sum(np.square(predictions - labels))\n",
    "        \n",
    "    def backward(self, predictions, labels):\n",
    "        num_samples = labels.shape[0]\n",
    "        return num_samples * 2 * (predictions - labels)\n",
    "\n",
    "# This is referred above as g(v).\n",
    "class nn_Sigmoid:\n",
    "    def forward(self, x):\n",
    "        return 1 / (1 + np.exp(-x))\n",
    "    \n",
    "    def backward(self, x, gradOutput):\n",
    "        # It is usually a good idea to use gv from the forward pass and not recompute it again here.\n",
    "        gv = 1 / (1 + np.exp(-x))  \n",
    "        return np.multiply(np.multiply(gv, (1 - gv)), gradOutput)\n",
    "\n",
    "# This is referred above as h(W, b)\n",
    "class nn_Linear:\n",
    "    def __init__(self, input_dim, output_dim):\n",
    "        # Initialized with random numbers from a gaussian N(0, 0.001)\n",
    "        self.weight = np.matlib.randn(input_dim, output_dim) * 0.01\n",
    "        self.bias = np.matlib.randn((1, output_dim)) * 0.01\n",
    "        self.gradWeight = np.zeros_like(self.weight)\n",
    "        self.gradBias = np.zeros_like(self.bias)\n",
    "        \n",
    "    def forward(self, x):\n",
    "        return np.dot(x, self.weight) + self.bias\n",
    "    \n",
    "    def backward(self, x, gradOutput):\n",
    "        # dL/dw = dh/dw * dL/dv\n",
    "        self.gradWeight = np.dot(x.T, gradOutput)\n",
    "        # dL/db = dh/db * dL/dv\n",
    "        self.gradBias = np.copy(gradOutput)\n",
    "        # return dL/dx = dh/dx * dL/dv\n",
    "        return np.dot(gradOutput, self.weight.T)\n",
    "    \n",
    "    def getParameters(self):\n",
    "        params = [self.weight, self.bias]\n",
    "        gradParams = [self.gradWeight, self.gradBias]\n",
    "        return params, gradParams\n",
    "    \n",
    "\n",
    "# Let's test some dummy inputs for a full pass of forward and backward propagation.\n",
    "x1 = np.array([[1, 2, 2, 3]])\n",
    "y1 = np.array([[0.25, 0.25, 0.25]])\n",
    "\n",
    "# Define the operations.\n",
    "linear = nn_Linear(4, 3)  # h(W, b)\n",
    "sigmoid = nn_Sigmoid()  # g(v)\n",
    "loss = nn_MSECriterion()  # f(u)\n",
    "\n",
    "# Forward-propagation.\n",
    "a0 = linear.forward(x1)\n",
    "a1 = sigmoid.forward(a0)\n",
    "loss_val = loss.forward(a1, y1) # Loss function.\n",
    "\n",
    "# Backward-propagation.\n",
    "da1 = loss.backward(a1, y1)\n",
    "da0 = sigmoid.backward(a0, da1)\n",
    "dx1 = linear.backward(x1, da0)\n",
    "\n",
    "# Show parameters of the linear layer.\n",
    "print('\\nW = ' + str(linear.weight))\n",
    "print('B = ' + str(linear.bias))\n",
    "\n",
    "# Show the intermediate outputs in the forward pass.\n",
    "print('\\nx1 = '+ str(x1))\n",
    "print('a0 = ' + str(a0))\n",
    "print('a1 = ' + str(a1))\n",
    "\n",
    "print('\\nloss = ' + str(loss_val))\n",
    "\n",
    "# Show the intermediate gradients with respect to inputs in the backward pass.\n",
    "print('\\nda1 = ' + str(da1))\n",
    "print('da0 = ' + str(da0))\n",
    "print('dx1 = ' + str(dx1))\n",
    "\n",
    "# Show the gradients with respect to parameters.\n",
    "print('\\ndW = ' + str(linear.gradWeight))\n",
    "print('dB = ' + str(linear.gradBias))"
   ]
  },
  {
   "cell_type": "markdown",
   "metadata": {
    "collapsed": true
   },
   "source": [
    "## 5. Gradient Checking \n",
    "\n",
    "The gradients can also be computed with numerical approximation using the definition of derivatives. Let a single input pair $(x, y)$ be the input, for each entry $w_{ij}$ in the weight matrix $W$ we are interested in the following:\n",
    "\n",
    "$$\\frac{\\partial loss(W,b)}{\\partial w_{ij}} = \\frac{loss(W + \\mathcal{E}_{ij},b) - loss(W - \\mathcal{E}_{ij}, b)}{2\\epsilon}, $$\n",
    "\n",
    "where $\\mathcal{E}_{ij}$ is a matrix that has $\\epsilon$ in its $(i,j)$ entry and zeros everywhere else. Intuitively this gradient tells us how would the value of the loss changes if we shake a particular weight $w_{ij}$ by an $\\epsilon$ amount. We can do the same to compute derivatives with respect to the bias parameters $b_i$. Here is a piece of code that checks for a given input $(x, y)$, the gradients for the matrix $W$. "
   ]
  },
  {
   "cell_type": "code",
   "execution_count": 23,
   "metadata": {
    "collapsed": false
   },
   "outputs": [
    {
     "name": "stdout",
     "output_type": "stream",
     "text": [
      "gradWeight: [[ -3.12451648  -4.13960365  -5.27980362]\n",
      " [ -5.07400113  -6.72243328  -8.57404006]\n",
      " [-45.98647336 -60.9264743  -77.70787885]\n",
      " [ -7.11695421  -9.42909721 -12.02621935]]\n",
      "\n",
      "approxGradWeight: [[ -3.12456767  -4.13971044  -5.27964867]\n",
      " [ -5.0741361   -6.72271486  -8.57363142]\n",
      " [-45.99752104 -60.94955674 -77.67425684]\n",
      " [ -7.1172197   -9.42965112 -12.02541533]]\n"
     ]
    }
   ],
   "source": [
    "# We will compute derivatives with respect to a single data pair (x,y)\n",
    "x = np.array([[2.34, 3.8, 34.44, 5.33]])\n",
    "y = np.array([[3.2, 4.2, 5.3]])\n",
    "\n",
    "# Define the operations.\n",
    "linear = nn_Linear(4, 3)\n",
    "sigmoid = nn_Sigmoid()\n",
    "criterion = nn_MSECriterion()\n",
    "\n",
    "# Forward-propagation.\n",
    "a0 = linear.forward(x)\n",
    "a1 = sigmoid.forward(a0)\n",
    "loss = criterion.forward(a1, y) # Loss function.\n",
    "\n",
    "# Backward-propagation.\n",
    "da1 = criterion.backward(a1, y)\n",
    "da0 = sigmoid.backward(a0, da1)\n",
    "dx = linear.backward(x, da0)\n",
    "\n",
    "gradWeight = linear.gradWeight\n",
    "gradBias = linear.gradBias\n",
    "\n",
    "approxGradWeight = np.zeros_like(linear.weight)\n",
    "approxGradBias = np.zeros_like(linear.bias)\n",
    "\n",
    "# We will verify here that gradWeights are correct and leave it as an excercise\n",
    "# to verify the gradBias.\n",
    "epsilon = 0.0001\n",
    "for i in range(0, linear.weight.shape[0]):\n",
    "    for j in range(0, linear.weight.shape[1]):\n",
    "        # Compute f(w)\n",
    "        fw = criterion.forward(sigmoid.forward(linear.forward(x)), y) # Loss function.\n",
    "        # Compute f(w + eps)\n",
    "        shifted_weight = np.copy(linear.weight)\n",
    "        shifted_weight[i, j] = shifted_weight[i, j] + epsilon\n",
    "        shifted_linear = nn_Linear(4, 3)\n",
    "        shifted_linear.bias = linear.bias\n",
    "        shifted_linear.weight = shifted_weight\n",
    "        fw_epsilon = criterion.forward(sigmoid.forward(shifted_linear.forward(x)), y) # Loss function\n",
    "        # Compute (f(w + eps) - f(w)) / eps\n",
    "        approxGradWeight[i, j] = (fw_epsilon - fw) / epsilon\n",
    "\n",
    "# These two outputs should be similar up to some precision.\n",
    "print('gradWeight: ' + str(gradWeight))\n",
    "print('\\napproxGradWeight: ' + str(approxGradWeight))"
   ]
  },
  {
   "cell_type": "markdown",
   "metadata": {},
   "source": [
    "## 6. Stochastic Gradient Descent.\n",
    "\n",
    "We are almost ready to train our model. We will use a dummy dataset that we will generate automatically below. The inputs are 1000 vectors of size 4, and the outputs are 1000 vectors of size 3. We will just focus on training, however keep in mind that in a real task we would be interested in the accuracy of the model on test (unseen) data."
   ]
  },
  {
   "cell_type": "code",
   "execution_count": 25,
   "metadata": {
    "collapsed": false
   },
   "outputs": [
    {
     "name": "stdout",
     "output_type": "stream",
     "text": [
      "(1000, 4)\n",
      "(1000, 3)\n"
     ]
    }
   ],
   "source": [
    "dataset_size = 1000\n",
    "\n",
    "# Generate random inputs within some range.\n",
    "x = np.random.uniform(0, 6, (dataset_size, 4))\n",
    "# Generate outputs based on the inputs using some function.\n",
    "y1 = np.sin(x.sum(axis = 1))\n",
    "y2 = np.sin(x[:, 1] * 6)\n",
    "y3 = np.sin(x[:, 1] + x[:, 3])\n",
    "y = np.array([y1, y2, y3]).T\n",
    "\n",
    "print(x.shape)\n",
    "print(y.shape)"
   ]
  },
  {
   "cell_type": "markdown",
   "metadata": {},
   "source": [
    "Now that we compute gradients efficiently we will implement the stochastic gradient descent loop that moves the weights according to the gradients. In each iteration we sample an (input, label) pair and compute the gradients of the parameters, then we update the parameters according to the following rules:\n",
    "\n",
    "$$w_{ij} = w_{ij} - \\lambda\\frac{\\partial \\ell}{\\partial w_{ij}}$$\n",
    "\n",
    "$$b_i = b_i - \\lambda\\frac{\\partial \\ell}{\\partial b_i}$$\n",
    "\n",
    "where $\\lambda$ is the learning rate. "
   ]
  },
  {
   "cell_type": "code",
   "execution_count": 27,
   "metadata": {
    "collapsed": false
   },
   "outputs": [
    {
     "name": "stdout",
     "output_type": "stream",
     "text": [
      "epoch[0] = 1.49711887\n",
      "epoch[10] = 1.43703324\n",
      "epoch[20] = 1.43196063\n",
      "epoch[30] = 1.43032262\n",
      "epoch[40] = 1.42953616\n",
      "epoch[50] = 1.42908961\n",
      "epoch[60] = 1.42876145\n",
      "epoch[70] = 1.42844451\n",
      "epoch[80] = 1.42815717\n",
      "epoch[90] = 1.42790564\n",
      "epoch[100] = 1.42768513\n",
      "epoch[110] = 1.42749239\n",
      "epoch[120] = 1.42732486\n",
      "epoch[130] = 1.42717988\n",
      "epoch[140] = 1.42705465\n",
      "epoch[150] = 1.42694643\n",
      "epoch[160] = 1.42685267\n",
      "epoch[170] = 1.42677114\n",
      "epoch[180] = 1.42669991\n",
      "epoch[190] = 1.42663737\n",
      "epoch[200] = 1.42658216\n",
      "epoch[210] = 1.42653317\n",
      "epoch[220] = 1.42648946\n",
      "epoch[230] = 1.42645026\n",
      "epoch[240] = 1.42641494\n",
      "epoch[250] = 1.42638295\n",
      "epoch[260] = 1.42635384\n",
      "epoch[270] = 1.42632723\n",
      "epoch[280] = 1.42630277\n",
      "epoch[290] = 1.42628020\n",
      "epoch[300] = 1.42625925\n",
      "epoch[310] = 1.42623972\n",
      "epoch[320] = 1.42622140\n",
      "epoch[330] = 1.42620413\n",
      "epoch[340] = 1.42618775\n",
      "epoch[350] = 1.42617211\n",
      "epoch[360] = 1.42615707\n",
      "epoch[370] = 1.42614250\n",
      "epoch[380] = 1.42612825\n",
      "epoch[390] = 1.42611419\n"
     ]
    }
   ],
   "source": [
    "learningRate = 0.1\n",
    "\n",
    "model = {}\n",
    "model['linear'] = nn_Linear(4, 3)\n",
    "model['sigmoid'] = nn_Sigmoid()\n",
    "model['loss'] = nn_MSECriterion()\n",
    "\n",
    "for epoch in range(0, 400):\n",
    "    loss = 0\n",
    "    for i in range(0, dataset_size):\n",
    "        xi = x[i:i+1, :]\n",
    "        yi = y[i:i+1, :]\n",
    "\n",
    "        # Forward.\n",
    "        a0 = model['linear'].forward(xi)\n",
    "        a1 = model['sigmoid'].forward(a0)\n",
    "        loss += model['loss'].forward(a1, yi)\n",
    "\n",
    "        # Backward.\n",
    "        da1 = model['loss'].backward(a1, yi)\n",
    "        da0 = model['sigmoid'].backward(a0, da1)\n",
    "        model['linear'].backward(xi, da0)\n",
    "\n",
    "        model['linear'].weight = model['linear'].weight - learningRate * model['linear'].gradWeight\n",
    "        model['linear'].bias = model['linear'].bias - learningRate * model['linear'].gradBias\n",
    "    \n",
    "    if epoch % 10 == 0: print('epoch[%d] = %.8f' % (epoch, loss / dataset_size))"
   ]
  },
  {
   "cell_type": "markdown",
   "metadata": {},
   "source": [
    "## Lab Questions (5 pts) [Include your code and intermediate outputs]\n",
    "<b>1)</b> In Section 6. We implemented a single layer neural network that takes as input vectors of size 4, and outputs vectors of size 3. Modify the code from section 6 to train the network below (use the same dummy dataset and print the final loss using the same number of epochs) [2pts]: \n",
    "<img src=\"2layernet2.png\" width=\"500\"/>\n"
   ]
  },
  {
   "cell_type": "code",
   "execution_count": null,
   "metadata": {
    "collapsed": false
   },
   "outputs": [],
   "source": [
    "# Your code goes here."
   ]
  },
  {
   "cell_type": "markdown",
   "metadata": {},
   "source": [
    "<b>2)</b> Check the gradients of the above network for both linear layer parameters $W_1$ and $W_2$ using some sample input x, and y. (You can look at the code from section 5 for this) [1pt]"
   ]
  },
  {
   "cell_type": "code",
   "execution_count": null,
   "metadata": {
    "collapsed": false
   },
   "outputs": [],
   "source": [
    "# Your code goes here."
   ]
  },
  {
   "cell_type": "markdown",
   "metadata": {},
   "source": [
    "<b>3)</b> There are other activation functions that can be used instead of sigmoid. Implement below the forward and backward operation for the following functions [1pt]:\n",
    "\n",
    "$$\\text{ReLU}(x) = \\text{max}(0, x)$$\n",
    "Note, that the above $\\text{max}$ operates element-wise on the input vector $x$.\n",
    "\n",
    "$$\\text{Tanh(x)} = \\text{tanh}(x) = \\frac{e^{x} - e^{-x}}{e^{x} + e^{-x}}$$"
   ]
  },
  {
   "cell_type": "code",
   "execution_count": null,
   "metadata": {
    "collapsed": false
   },
   "outputs": [],
   "source": [
    "# Rectified linear unit\n",
    "class nn_ReLU:\n",
    "    def forward(self, x):\n",
    "        # Forward pass.\n",
    "    \n",
    "    def backward(self, x, gradOutput):\n",
    "        # Backward pass\n",
    "        \n",
    "# Hyperbolic tangent.\n",
    "class nn_Tanh:\n",
    "    def forward(self, x):\n",
    "        # Forward pass.\n",
    "    \n",
    "    def backward(self, x, gradOutput):\n",
    "        # Backward pass\n"
   ]
  },
  {
   "cell_type": "markdown",
   "metadata": {
    "collapsed": false
   },
   "source": [
    "<b>4)</b> There are other loss functions that can be used instead of a mean squared error criterion. Implement the forward and backward operations for the following loss functions where $a$ is a vector of predicted values, and $y$ is the vector with ground-truth labels (both vectors are of size $n$) [1pts]:\n",
    "\n",
    "$$\\text{AbsCriterion}(y, a) = \\frac{1}{n}\\sum_{i=1}^{i=n}|y_i - a_i|$$\n",
    "\n",
    "$$\\text{BinaryCrossEntropy}(y, a) = \\frac{1}{n}\\sum_{i=1}^{i=n} [y_i\\text{log}(a_i) + (1 - y_i)\\text{log}(1 - a_i)]$$,\n",
    "\n",
    "The binary cross entropy loss assumes that the vector $y$ only has values that are either 0 and 1, and the prediction vector $a$ contains values between 0 and 1 (e.g. the output of a $\\text{sigmoid}$ layer)."
   ]
  },
  {
   "cell_type": "code",
   "execution_count": null,
   "metadata": {
    "collapsed": false
   },
   "outputs": [],
   "source": [
    "# Absolute difference criterion or L-1 distance criterion.\n",
    "class nn_AbsCriterion:\n",
    "    def forward(self, predictions, labels):\n",
    "        # Forward pass.\n",
    "        \n",
    "    def backward(self, predictions, labels):\n",
    "        # Backward pass.\n",
    "        \n",
    "# Binary cross entropy criterion. Useful for classification as opposed to regression.\n",
    "class nn_BCECriterion:\n",
    "    def forward(self, predictions, labels):\n",
    "        # Forward pass.\n",
    "        \n",
    "    def backward(self, predictions, labels):\n",
    "        # Backward pass."
   ]
  },
  {
   "cell_type": "markdown",
   "metadata": {},
   "source": [
    "<b>Optional</b>: Most deep learning libraries support batches, meaning you can forward, and backward a set of inputs. Our library PyDeepTensorNet supports batches in the forward pass (review again section 2 where we input two vectors to the network). However, our backward pass does not support batches. Modify the code in backward function of the nn_Linear class to support batches. Then test your implementation by training the network in section 6 using a batch size of 32 [2pts]. <span style=\"color:#666\">(Keep in mind that the gradWeight and gradBias vectors should accumulate the gradients of each input in the batch. This is because the gradient of the loss with respect to the batch is the sum of the gradients with respect to each sample in the batch).</span>"
   ]
  },
  {
   "cell_type": "code",
   "execution_count": null,
   "metadata": {
    "collapsed": true
   },
   "outputs": [],
   "source": []
  },
  {
   "cell_type": "markdown",
   "metadata": {},
   "source": [
    "<div style=\"font-size:0.8em;color:#888;text-align:center;padding-top:20px;\">If you find any errors or omissions in this material please contact me at vicente@virginia.edu"
   ]
  }
 ],
 "metadata": {
  "kernelspec": {
   "display_name": "Python 2",
   "language": "python",
   "name": "python2"
  },
  "language_info": {
   "codemirror_mode": {
    "name": "ipython",
    "version": 2
   },
   "file_extension": ".py",
   "mimetype": "text/x-python",
   "name": "python",
   "nbconvert_exporter": "python",
   "pygments_lexer": "ipython2",
   "version": "2.7.13"
  }
 },
 "nbformat": 4,
 "nbformat_minor": 0
}
